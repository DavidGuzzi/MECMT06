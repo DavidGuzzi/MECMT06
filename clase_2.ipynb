{
 "cells": [
  {
   "cell_type": "code",
   "execution_count": 10,
   "metadata": {},
   "outputs": [],
   "source": [
    "import pandas as pd\n",
    "import numpy as np\n",
    "import pyreadstat as st\n",
    "import matplotlib.pyplot as plt\n",
    "import seaborn as sns"
   ]
  },
  {
   "cell_type": "code",
   "execution_count": 3,
   "metadata": {},
   "outputs": [
    {
     "name": "stdout",
     "output_type": "stream",
     "text": [
      "<class 'pandas.core.frame.DataFrame'>\n",
      "RangeIndex: 753 entries, 0 to 752\n",
      "Data columns (total 21 columns):\n",
      " #   Column            Non-Null Count  Dtype  \n",
      "---  ------            --------------  -----  \n",
      " 0   lfp               753 non-null    int64  \n",
      " 1   whrs              753 non-null    int64  \n",
      " 2   kl6               753 non-null    int64  \n",
      " 3   k618              753 non-null    int64  \n",
      " 4   wa                753 non-null    int64  \n",
      " 5   we                753 non-null    int64  \n",
      " 6   ww                753 non-null    float64\n",
      " 7   rpwg              753 non-null    float64\n",
      " 8   hhrs              753 non-null    int64  \n",
      " 9   ha                753 non-null    int64  \n",
      " 10  he                753 non-null    int64  \n",
      " 11  hw                753 non-null    float64\n",
      " 12  faminc            753 non-null    int64  \n",
      " 13  mtr               753 non-null    float64\n",
      " 14  wmed              753 non-null    int64  \n",
      " 15  wfed              753 non-null    int64  \n",
      " 16  un                753 non-null    float64\n",
      " 17  cit               753 non-null    int64  \n",
      " 18  ax                753 non-null    int64  \n",
      " 19  salario_ofrecido  753 non-null    float64\n",
      " 20  salhat            753 non-null    float64\n",
      "dtypes: float64(7), int64(14)\n",
      "memory usage: 123.7 KB\n"
     ]
    }
   ],
   "source": [
    "path = r\"C:\\Users\\HP\\OneDrive\\Escritorio\\David Guzzi\\DiTella\\MEC\\Materias\\2024 3T\\[MT06] Microeconometría I\\Clases\\Clase 2\\Archivos Stata-20241002\\MROZ1.dta\"\n",
    "\n",
    "df, meta = st.read_dta(path)\n",
    "df.info()"
   ]
  },
  {
   "cell_type": "code",
   "execution_count": 4,
   "metadata": {},
   "outputs": [
    {
     "data": {
      "text/html": [
       "<div>\n",
       "<style scoped>\n",
       "    .dataframe tbody tr th:only-of-type {\n",
       "        vertical-align: middle;\n",
       "    }\n",
       "\n",
       "    .dataframe tbody tr th {\n",
       "        vertical-align: top;\n",
       "    }\n",
       "\n",
       "    .dataframe thead th {\n",
       "        text-align: right;\n",
       "    }\n",
       "</style>\n",
       "<table border=\"1\" class=\"dataframe\">\n",
       "  <thead>\n",
       "    <tr style=\"text-align: right;\">\n",
       "      <th></th>\n",
       "      <th>lfp</th>\n",
       "      <th>whrs</th>\n",
       "      <th>kl6</th>\n",
       "      <th>k618</th>\n",
       "      <th>wa</th>\n",
       "      <th>we</th>\n",
       "      <th>ww</th>\n",
       "      <th>rpwg</th>\n",
       "      <th>hhrs</th>\n",
       "      <th>ha</th>\n",
       "      <th>...</th>\n",
       "      <th>hw</th>\n",
       "      <th>faminc</th>\n",
       "      <th>mtr</th>\n",
       "      <th>wmed</th>\n",
       "      <th>wfed</th>\n",
       "      <th>un</th>\n",
       "      <th>cit</th>\n",
       "      <th>ax</th>\n",
       "      <th>salario_ofrecido</th>\n",
       "      <th>salhat</th>\n",
       "    </tr>\n",
       "  </thead>\n",
       "  <tbody>\n",
       "    <tr>\n",
       "      <th>0</th>\n",
       "      <td>1</td>\n",
       "      <td>1610</td>\n",
       "      <td>1</td>\n",
       "      <td>0</td>\n",
       "      <td>32</td>\n",
       "      <td>12</td>\n",
       "      <td>3.354</td>\n",
       "      <td>2.65</td>\n",
       "      <td>2708</td>\n",
       "      <td>34</td>\n",
       "      <td>...</td>\n",
       "      <td>4.0288</td>\n",
       "      <td>16310</td>\n",
       "      <td>0.7215</td>\n",
       "      <td>12</td>\n",
       "      <td>7</td>\n",
       "      <td>5.0</td>\n",
       "      <td>0</td>\n",
       "      <td>14</td>\n",
       "      <td>3.761177</td>\n",
       "      <td>0.550029</td>\n",
       "    </tr>\n",
       "  </tbody>\n",
       "</table>\n",
       "<p>1 rows × 21 columns</p>\n",
       "</div>"
      ],
      "text/plain": [
       "   lfp  whrs  kl6  k618  wa  we     ww  rpwg  hhrs  ha  ...      hw  faminc  \\\n",
       "0    1  1610    1     0  32  12  3.354  2.65  2708  34  ...  4.0288   16310   \n",
       "\n",
       "      mtr  wmed  wfed   un  cit  ax  salario_ofrecido    salhat  \n",
       "0  0.7215    12     7  5.0    0  14          3.761177  0.550029  \n",
       "\n",
       "[1 rows x 21 columns]"
      ]
     },
     "execution_count": 4,
     "metadata": {},
     "output_type": "execute_result"
    }
   ],
   "source": [
    "df.head(1)"
   ]
  },
  {
   "cell_type": "code",
   "execution_count": 5,
   "metadata": {},
   "outputs": [
    {
     "data": {
      "text/plain": [
       "lfp\n",
       "1    428\n",
       "0    325\n",
       "Name: count, dtype: int64"
      ]
     },
     "execution_count": 5,
     "metadata": {},
     "output_type": "execute_result"
    }
   ],
   "source": [
    "df['lfp'].value_counts()"
   ]
  },
  {
   "cell_type": "code",
   "execution_count": 8,
   "metadata": {},
   "outputs": [
    {
     "name": "stdout",
     "output_type": "stream",
     "text": [
      "Optimization terminated successfully.\n",
      "         Current function value: 0.657445\n",
      "         Iterations 5\n"
     ]
    },
    {
     "data": {
      "text/html": [
       "<table class=\"simpletable\">\n",
       "<caption>Logit Regression Results</caption>\n",
       "<tr>\n",
       "  <th>Dep. Variable:</th>          <td>lfp</td>       <th>  No. Observations:  </th>  <td>   753</td>  \n",
       "</tr>\n",
       "<tr>\n",
       "  <th>Model:</th>                 <td>Logit</td>      <th>  Df Residuals:      </th>  <td>   751</td>  \n",
       "</tr>\n",
       "<tr>\n",
       "  <th>Method:</th>                 <td>MLE</td>       <th>  Df Model:          </th>  <td>     1</td>  \n",
       "</tr>\n",
       "<tr>\n",
       "  <th>Date:</th>            <td>Thu, 17 Oct 2024</td> <th>  Pseudo R-squ.:     </th>  <td>0.03849</td> \n",
       "</tr>\n",
       "<tr>\n",
       "  <th>Time:</th>                <td>18:55:30</td>     <th>  Log-Likelihood:    </th> <td> -495.06</td> \n",
       "</tr>\n",
       "<tr>\n",
       "  <th>converged:</th>             <td>True</td>       <th>  LL-Null:           </th> <td> -514.87</td> \n",
       "</tr>\n",
       "<tr>\n",
       "  <th>Covariance Type:</th>     <td>nonrobust</td>    <th>  LLR p-value:       </th> <td>3.062e-10</td>\n",
       "</tr>\n",
       "</table>\n",
       "<table class=\"simpletable\">\n",
       "<tr>\n",
       "          <td></td>            <th>coef</th>     <th>std err</th>      <th>z</th>      <th>P>|z|</th>  <th>[0.025</th>    <th>0.975]</th>  \n",
       "</tr>\n",
       "<tr>\n",
       "  <th>const</th>            <td>   -1.3784</td> <td>    0.284</td> <td>   -4.853</td> <td> 0.000</td> <td>   -1.935</td> <td>   -0.822</td>\n",
       "</tr>\n",
       "<tr>\n",
       "  <th>salario_ofrecido</th> <td>    0.4225</td> <td>    0.071</td> <td>    5.986</td> <td> 0.000</td> <td>    0.284</td> <td>    0.561</td>\n",
       "</tr>\n",
       "</table>"
      ],
      "text/latex": [
       "\\begin{center}\n",
       "\\begin{tabular}{lclc}\n",
       "\\toprule\n",
       "\\textbf{Dep. Variable:}    &       lfp        & \\textbf{  No. Observations:  } &      753    \\\\\n",
       "\\textbf{Model:}            &      Logit       & \\textbf{  Df Residuals:      } &      751    \\\\\n",
       "\\textbf{Method:}           &       MLE        & \\textbf{  Df Model:          } &        1    \\\\\n",
       "\\textbf{Date:}             & Thu, 17 Oct 2024 & \\textbf{  Pseudo R-squ.:     } &  0.03849    \\\\\n",
       "\\textbf{Time:}             &     18:55:30     & \\textbf{  Log-Likelihood:    } &   -495.06   \\\\\n",
       "\\textbf{converged:}        &       True       & \\textbf{  LL-Null:           } &   -514.87   \\\\\n",
       "\\textbf{Covariance Type:}  &    nonrobust     & \\textbf{  LLR p-value:       } & 3.062e-10   \\\\\n",
       "\\bottomrule\n",
       "\\end{tabular}\n",
       "\\begin{tabular}{lcccccc}\n",
       "                           & \\textbf{coef} & \\textbf{std err} & \\textbf{z} & \\textbf{P$> |$z$|$} & \\textbf{[0.025} & \\textbf{0.975]}  \\\\\n",
       "\\midrule\n",
       "\\textbf{const}             &      -1.3784  &        0.284     &    -4.853  &         0.000        &       -1.935    &       -0.822     \\\\\n",
       "\\textbf{salario\\_ofrecido} &       0.4225  &        0.071     &     5.986  &         0.000        &        0.284    &        0.561     \\\\\n",
       "\\bottomrule\n",
       "\\end{tabular}\n",
       "%\\caption{Logit Regression Results}\n",
       "\\end{center}"
      ],
      "text/plain": [
       "<class 'statsmodels.iolib.summary.Summary'>\n",
       "\"\"\"\n",
       "                           Logit Regression Results                           \n",
       "==============================================================================\n",
       "Dep. Variable:                    lfp   No. Observations:                  753\n",
       "Model:                          Logit   Df Residuals:                      751\n",
       "Method:                           MLE   Df Model:                            1\n",
       "Date:                Thu, 17 Oct 2024   Pseudo R-squ.:                 0.03849\n",
       "Time:                        18:55:30   Log-Likelihood:                -495.06\n",
       "converged:                       True   LL-Null:                       -514.87\n",
       "Covariance Type:            nonrobust   LLR p-value:                 3.062e-10\n",
       "====================================================================================\n",
       "                       coef    std err          z      P>|z|      [0.025      0.975]\n",
       "------------------------------------------------------------------------------------\n",
       "const               -1.3784      0.284     -4.853      0.000      -1.935      -0.822\n",
       "salario_ofrecido     0.4225      0.071      5.986      0.000       0.284       0.561\n",
       "====================================================================================\n",
       "\"\"\""
      ]
     },
     "execution_count": 8,
     "metadata": {},
     "output_type": "execute_result"
    }
   ],
   "source": [
    "df['const'] = 1\n",
    "\n",
    "import statsmodels.api as sm\n",
    "X = df[['const', 'salario_ofrecido']]  # Variable independiente con constante\n",
    "y = df['lfp']  # Variable dependiente\n",
    "\n",
    "# Ajustar el modelo logístico\n",
    "logit_model = sm.Logit(y, X)\n",
    "result = logit_model.fit()\n",
    "result.summary()"
   ]
  },
  {
   "cell_type": "code",
   "execution_count": 9,
   "metadata": {},
   "outputs": [],
   "source": [
    "# from sklearn.linear_model import LogisticRegression\n",
    "\n",
    "# # Supongamos que tienes un DataFrame llamado 'df' con las columnas 'lfp' y 'salario_ofrecido'\n",
    "# X = df[['salario_ofrecido']]  # Variables independientes\n",
    "# y = df['lfp']  # Variable dependiente\n",
    "\n",
    "# # Crear el modelo de regresión logística\n",
    "# logit_model = LogisticRegression()\n",
    "\n",
    "# # Ajustar el modelo a todos los datos\n",
    "# logit_model.fit(X, y)\n",
    "\n",
    "# # Predecir los valores\n",
    "# y_pred = logit_model.predict(X)\n",
    "\n",
    "# # Imprimir el coeficiente y el intercepto del modelo\n",
    "# print(\"Intercepto:\", logit_model.intercept_)\n",
    "# print(\"Coeficiente de 'salario_ofrecido':\", logit_model.coef_)"
   ]
  },
  {
   "cell_type": "code",
   "execution_count": 23,
   "metadata": {},
   "outputs": [
    {
     "data": {
      "image/png": "[encoded data removed]",
      "text/plain": [
       "<Figure size 800x600 with 1 Axes>"
      ]
     },
     "metadata": {},
     "output_type": "display_data"
    }
   ],
   "source": [
    "df['yhat'] = result.predict(X)\n",
    "\n",
    "# Configurar estilo\n",
    "sns.set(style=\"whitegrid\")\n",
    "\n",
    "# Crear el gráfico de dispersión\n",
    "plt.figure(figsize=(8, 6))\n",
    "\n",
    "# Graficar los valores predichos (yhat) vs salario_ofrecido, y la variable lfp (con msymbol similar a 'O' para los puntos)\n",
    "sns.scatterplot(x='salario_ofrecido', y='yhat', data=df, label='Predicción (yhat)', marker='o', color='blue')\n",
    "sns.scatterplot(x='salario_ofrecido', y='lfp', data=df, label='Datos reales (lfp)', marker='d', color='red')\n",
    "\n",
    "# Títulos y etiquetas\n",
    "plt.title(\"Diagrama de Dispersión\")\n",
    "plt.ylabel(\"Trabaja = 1; No Trabaja = 0\")\n",
    "plt.xlabel(\"Salario Ofrecido\")\n",
    "\n",
    "# Limitar los valores del eje Y a [0, 1] para la variable dependiente binaria\n",
    "plt.ylim(-0.05, 1.05)\n",
    "\n",
    "# Mostrar leyenda\n",
    "plt.legend()\n",
    "\n",
    "# Mostrar gráfico\n",
    "plt.show()"
   ]
  },
  {
   "cell_type": "code",
   "execution_count": 25,
   "metadata": {},
   "outputs": [
    {
     "name": "stdout",
     "output_type": "stream",
     "text": [
      "        Logit Marginal Effects       \n",
      "=====================================\n",
      "Dep. Variable:                    lfp\n",
      "Method:                          dydx\n",
      "At:                              mean\n",
      "====================================================================================\n",
      "                      dy/dx    std err          z      P>|z|      [0.025      0.975]\n",
      "------------------------------------------------------------------------------------\n",
      "salario_ofrecido     0.1034      0.017      6.000      0.000       0.070       0.137\n",
      "====================================================================================\n"
     ]
    }
   ],
   "source": [
    "# Calcular los efectos marginales (mfx en Stata)\n",
    "margins = result.get_margeff(at='mean')\n",
    "\n",
    "# Mostrar los resultados de los efectos marginales\n",
    "print(margins.summary())"
   ]
  },
  {
   "cell_type": "code",
   "execution_count": 26,
   "metadata": {},
   "outputs": [
    {
     "name": "stdout",
     "output_type": "stream",
     "text": [
      "                         Variables  Odds Ratios\n",
      "const                        const     0.251989\n",
      "salario_ofrecido  salario_ofrecido     1.525841\n"
     ]
    }
   ],
   "source": [
    "odds_ratios = pd.DataFrame({\n",
    "    'Variables': X.columns,\n",
    "    'Odds Ratios': result.params.apply(lambda x: np.exp(x))\n",
    "})\n",
    "\n",
    "# Mostrar los odds ratios\n",
    "print(odds_ratios)"
   ]
  },
  {
   "cell_type": "code",
   "execution_count": 27,
   "metadata": {},
   "outputs": [
    {
     "name": "stdout",
     "output_type": "stream",
     "text": [
      "                  Odds Ratio      2.5%     97.5%       P-value\n",
      "const               0.251989  0.144415  0.439693  1.216877e-06\n",
      "salario_ofrecido    1.525841  1.328702  1.752230  2.145850e-09\n"
     ]
    }
   ],
   "source": [
    "# Calcular los odds ratios (exponenciar los coeficientes)\n",
    "odds_ratios = np.exp(result.params)\n",
    "\n",
    "# Calcular los intervalos de confianza (exponenciar los intervalos)\n",
    "conf = np.exp(result.conf_int())\n",
    "conf.columns = ['2.5%', '97.5%']  # Etiquetas de los intervalos de confianza\n",
    "\n",
    "# Crear un DataFrame para mostrar los odds ratios, intervalos de confianza y p-valores\n",
    "summary_df = pd.DataFrame({\n",
    "    'Odds Ratio': odds_ratios,\n",
    "    '2.5%': conf['2.5%'],\n",
    "    '97.5%': conf['97.5%'],\n",
    "    'P-value': result.pvalues\n",
    "})\n",
    "\n",
    "# Mostrar la tabla resumen\n",
    "print(summary_df)"
   ]
  },
  {
   "cell_type": "code",
   "execution_count": 28,
   "metadata": {},
   "outputs": [
    {
     "name": "stdout",
     "output_type": "stream",
     "text": [
      "        Logit Marginal Effects       \n",
      "=====================================\n",
      "Dep. Variable:                    lfp\n",
      "Method:                          dydx\n",
      "At:                           overall\n",
      "====================================================================================\n",
      "                      dy/dx    std err          z      P>|z|      [0.025      0.975]\n",
      "------------------------------------------------------------------------------------\n",
      "salario_ofrecido     0.0984      0.015      6.597      0.000       0.069       0.128\n",
      "====================================================================================\n"
     ]
    }
   ],
   "source": [
    "# Calcular los efectos marginales (mfx en Stata)\n",
    "margins = result.get_margeff()\n",
    "\n",
    "# Mostrar los resultados de los efectos marginales\n",
    "print(margins.summary())"
   ]
  }
 ],
 "metadata": {
  "kernelspec": {
   "display_name": "Python 3",
   "language": "python",
   "name": "python3"
  },
  "language_info": {
   "codemirror_mode": {
    "name": "ipython",
    "version": 3
   },
   "file_extension": ".py",
   "mimetype": "text/x-python",
   "name": "python",
   "nbconvert_exporter": "python",
   "pygments_lexer": "ipython3",
   "version": "3.12.2"
  }
 },
 "nbformat": 4,
 "nbformat_minor": 2
}
