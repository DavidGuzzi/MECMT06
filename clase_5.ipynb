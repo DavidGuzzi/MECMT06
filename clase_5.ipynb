{
 "cells": [
  {
   "cell_type": "code",
   "execution_count": 43,
   "metadata": {},
   "outputs": [],
   "source": [
    "import pandas as pd\n",
    "import numpy as np\n",
    "import pyreadstat as st\n",
    "import matplotlib.pyplot as plt\n",
    "import seaborn as sns"
   ]
  },
  {
   "cell_type": "code",
   "execution_count": 44,
   "metadata": {},
   "outputs": [
    {
     "data": {
      "text/html": [
       "<div>\n",
       "<style scoped>\n",
       "    .dataframe tbody tr th:only-of-type {\n",
       "        vertical-align: middle;\n",
       "    }\n",
       "\n",
       "    .dataframe tbody tr th {\n",
       "        vertical-align: top;\n",
       "    }\n",
       "\n",
       "    .dataframe thead th {\n",
       "        text-align: right;\n",
       "    }\n",
       "</style>\n",
       "<table border=\"1\" class=\"dataframe\">\n",
       "  <thead>\n",
       "    <tr style=\"text-align: right;\">\n",
       "      <th></th>\n",
       "      <th>id</th>\n",
       "      <th>female</th>\n",
       "      <th>race</th>\n",
       "      <th>ses</th>\n",
       "      <th>schtyp</th>\n",
       "      <th>prog</th>\n",
       "      <th>read</th>\n",
       "      <th>write</th>\n",
       "      <th>math</th>\n",
       "      <th>science</th>\n",
       "      <th>socst</th>\n",
       "    </tr>\n",
       "  </thead>\n",
       "  <tbody>\n",
       "    <tr>\n",
       "      <th>0</th>\n",
       "      <td>70.0</td>\n",
       "      <td>0.0</td>\n",
       "      <td>4.0</td>\n",
       "      <td>1.0</td>\n",
       "      <td>1.0</td>\n",
       "      <td>1.0</td>\n",
       "      <td>57.0</td>\n",
       "      <td>52.0</td>\n",
       "      <td>41.0</td>\n",
       "      <td>47.0</td>\n",
       "      <td>57.0</td>\n",
       "    </tr>\n",
       "  </tbody>\n",
       "</table>\n",
       "</div>"
      ],
      "text/plain": [
       "     id  female  race  ses  schtyp  prog  read  write  math  science  socst\n",
       "0  70.0     0.0   4.0  1.0     1.0   1.0  57.0   52.0  41.0     47.0   57.0"
      ]
     },
     "execution_count": 44,
     "metadata": {},
     "output_type": "execute_result"
    }
   ],
   "source": [
    "path = r\"C:\\Users\\HP\\OneDrive\\Escritorio\\David Guzzi\\DiTella\\MEC\\Materias\\2024 3T\\[MT06] Microeconometría I\\Clases\\Stata\\Archivos Stata-20250107\\hsb2.dta\"\n",
    "\n",
    "df, meta = st.read_dta(path)\n",
    "df.head(1)"
   ]
  },
  {
   "cell_type": "code",
   "execution_count": 45,
   "metadata": {},
   "outputs": [
    {
     "name": "stdout",
     "output_type": "stream",
     "text": [
      "<class 'pandas.core.frame.DataFrame'>\n",
      "RangeIndex: 200 entries, 0 to 199\n",
      "Data columns (total 11 columns):\n",
      " #   Column   Non-Null Count  Dtype  \n",
      "---  ------   --------------  -----  \n",
      " 0   id       200 non-null    float64\n",
      " 1   female   200 non-null    float64\n",
      " 2   race     200 non-null    float64\n",
      " 3   ses      200 non-null    float64\n",
      " 4   schtyp   200 non-null    float64\n",
      " 5   prog     200 non-null    float64\n",
      " 6   read     200 non-null    float64\n",
      " 7   write    200 non-null    float64\n",
      " 8   math     200 non-null    float64\n",
      " 9   science  200 non-null    float64\n",
      " 10  socst    200 non-null    float64\n",
      "dtypes: float64(11)\n",
      "memory usage: 17.3 KB\n"
     ]
    }
   ],
   "source": [
    "df.info()"
   ]
  },
  {
   "cell_type": "code",
   "execution_count": 46,
   "metadata": {},
   "outputs": [
    {
     "data": {
      "text/plain": [
       "ses\n",
       "2.0    95\n",
       "3.0    58\n",
       "1.0    47\n",
       "Name: count, dtype: int64"
      ]
     },
     "execution_count": 46,
     "metadata": {},
     "output_type": "execute_result"
    }
   ],
   "source": [
    "df['ses'].value_counts()"
   ]
  },
  {
   "cell_type": "code",
   "execution_count": null,
   "metadata": {},
   "outputs": [
    {
     "name": "stdout",
     "output_type": "stream",
     "text": [
      "Optimization terminated successfully.\n",
      "         Current function value: 0.974012\n",
      "         Iterations 5\n"
     ]
    },
    {
     "data": {
      "text/html": [
       "<table class=\"simpletable\">\n",
       "<caption>OrderedModel Results</caption>\n",
       "<tr>\n",
       "  <th>Dep. Variable:</th>         <td>ses_codes</td>     <th>  Log-Likelihood:    </th> <td> -194.80</td>\n",
       "</tr>\n",
       "<tr>\n",
       "  <th>Model:</th>               <td>OrderedModel</td>    <th>  AIC:               </th> <td>   399.6</td>\n",
       "</tr>\n",
       "<tr>\n",
       "  <th>Method:</th>           <td>Maximum Likelihood</td> <th>  BIC:               </th> <td>   416.1</td>\n",
       "</tr>\n",
       "<tr>\n",
       "  <th>Date:</th>              <td>Tue, 11 Feb 2025</td>  <th>                     </th>     <td> </td>   \n",
       "</tr>\n",
       "<tr>\n",
       "  <th>Time:</th>                  <td>20:21:35</td>      <th>                     </th>     <td> </td>   \n",
       "</tr>\n",
       "<tr>\n",
       "  <th>No. Observations:</th>       <td>   200</td>       <th>                     </th>     <td> </td>   \n",
       "</tr>\n",
       "<tr>\n",
       "  <th>Df Residuals:</th>           <td>   195</td>       <th>                     </th>     <td> </td>   \n",
       "</tr>\n",
       "<tr>\n",
       "  <th>Df Model:</th>               <td>     3</td>       <th>                     </th>     <td> </td>   \n",
       "</tr>\n",
       "</table>\n",
       "<table class=\"simpletable\">\n",
       "<tr>\n",
       "     <td></td>        <th>coef</th>     <th>std err</th>      <th>z</th>      <th>P>|z|</th>  <th>[0.025</th>    <th>0.975]</th>  \n",
       "</tr>\n",
       "<tr>\n",
       "  <th>science</th> <td>    0.0300</td> <td>    0.017</td> <td>    1.810</td> <td> 0.070</td> <td>   -0.002</td> <td>    0.063</td>\n",
       "</tr>\n",
       "<tr>\n",
       "  <th>socst</th>   <td>    0.0532</td> <td>    0.015</td> <td>    3.483</td> <td> 0.000</td> <td>    0.023</td> <td>    0.083</td>\n",
       "</tr>\n",
       "<tr>\n",
       "  <th>female</th>  <td>   -0.4824</td> <td>    0.280</td> <td>   -1.725</td> <td> 0.085</td> <td>   -1.031</td> <td>    0.066</td>\n",
       "</tr>\n",
       "<tr>\n",
       "  <th>0/1</th>     <td>    2.7547</td> <td>    0.869</td> <td>    3.168</td> <td> 0.002</td> <td>    1.051</td> <td>    4.459</td>\n",
       "</tr>\n",
       "<tr>\n",
       "  <th>1/2</th>     <td>    0.8548</td> <td>    0.091</td> <td>    9.347</td> <td> 0.000</td> <td>    0.676</td> <td>    1.034</td>\n",
       "</tr>\n",
       "</table>"
      ],
      "text/latex": [
       "\\begin{center}\n",
       "\\begin{tabular}{lclc}\n",
       "\\toprule\n",
       "\\textbf{Dep. Variable:}    &     ses\\_codes     & \\textbf{  Log-Likelihood:    } &   -194.80   \\\\\n",
       "\\textbf{Model:}            &    OrderedModel    & \\textbf{  AIC:               } &     399.6   \\\\\n",
       "\\textbf{Method:}           & Maximum Likelihood & \\textbf{  BIC:               } &     416.1   \\\\\n",
       "\\textbf{Date:}             &  Tue, 11 Feb 2025  & \\textbf{                     } &             \\\\\n",
       "\\textbf{Time:}             &      20:21:35      & \\textbf{                     } &             \\\\\n",
       "\\textbf{No. Observations:} &          200       & \\textbf{                     } &             \\\\\n",
       "\\textbf{Df Residuals:}     &          195       & \\textbf{                     } &             \\\\\n",
       "\\textbf{Df Model:}         &            3       & \\textbf{                     } &             \\\\\n",
       "\\bottomrule\n",
       "\\end{tabular}\n",
       "\\begin{tabular}{lcccccc}\n",
       "                 & \\textbf{coef} & \\textbf{std err} & \\textbf{z} & \\textbf{P$> |$z$|$} & \\textbf{[0.025} & \\textbf{0.975]}  \\\\\n",
       "\\midrule\n",
       "\\textbf{science} &       0.0300  &        0.017     &     1.810  &         0.070        &       -0.002    &        0.063     \\\\\n",
       "\\textbf{socst}   &       0.0532  &        0.015     &     3.483  &         0.000        &        0.023    &        0.083     \\\\\n",
       "\\textbf{female}  &      -0.4824  &        0.280     &    -1.725  &         0.085        &       -1.031    &        0.066     \\\\\n",
       "\\textbf{0/1}     &       2.7547  &        0.869     &     3.168  &         0.002        &        1.051    &        4.459     \\\\\n",
       "\\textbf{1/2}     &       0.8548  &        0.091     &     9.347  &         0.000        &        0.676    &        1.034     \\\\\n",
       "\\bottomrule\n",
       "\\end{tabular}\n",
       "%\\caption{OrderedModel Results}\n",
       "\\end{center}"
      ],
      "text/plain": [
       "<class 'statsmodels.iolib.summary.Summary'>\n",
       "\"\"\"\n",
       "                             OrderedModel Results                             \n",
       "==============================================================================\n",
       "Dep. Variable:              ses_codes   Log-Likelihood:                -194.80\n",
       "Model:                   OrderedModel   AIC:                             399.6\n",
       "Method:            Maximum Likelihood   BIC:                             416.1\n",
       "Date:                Tue, 11 Feb 2025                                         \n",
       "Time:                        20:21:35                                         \n",
       "No. Observations:                 200                                         \n",
       "Df Residuals:                     195                                         \n",
       "Df Model:                           3                                         \n",
       "==============================================================================\n",
       "                 coef    std err          z      P>|z|      [0.025      0.975]\n",
       "------------------------------------------------------------------------------\n",
       "science        0.0300      0.017      1.810      0.070      -0.002       0.063\n",
       "socst          0.0532      0.015      3.483      0.000       0.023       0.083\n",
       "female        -0.4824      0.280     -1.725      0.085      -1.031       0.066\n",
       "0/1            2.7547      0.869      3.168      0.002       1.051       4.459\n",
       "1/2            0.8548      0.091      9.347      0.000       0.676       1.034\n",
       "==============================================================================\n",
       "\"\"\""
      ]
     },
     "execution_count": 47,
     "metadata": {},
     "output_type": "execute_result"
    }
   ],
   "source": [
    "#Se estima un modelo logit para variabbles ordeneadas.\n",
    "import statsmodels.api as sm\n",
    "import statsmodels.formula.api as smf\n",
    "from statsmodels.miscmodels.ordinal_model import OrderedModel\n",
    "\n",
    "# Convertir 'ses' en una variable ordinal\n",
    "df['ses'] = df['ses'].astype('category')\n",
    "df['ses_codes'] = df['ses'].cat.codes  # Convertir a códigos numéricos ordenados\n",
    "\n",
    "# Definir y ajustar el modelo logit ordinal\n",
    "model = OrderedModel(df['ses_codes'], df[['science', 'socst', 'female']], distr='logit')\n",
    "result = model.fit(method='newton')\n",
    "\n",
    "# Mostrar los resultados\n",
    "result.summary()"
   ]
  },
  {
   "cell_type": "code",
   "execution_count": 52,
   "metadata": {},
   "outputs": [
    {
     "name": "stdout",
     "output_type": "stream",
     "text": [
      "         Marginal Effects\n",
      "science          0.162348\n",
      "socst            0.245973\n",
      "female           0.183574\n"
     ]
    }
   ],
   "source": [
    "# Calcular las probabilidades predichas para cada categoría\n",
    "pred_probs = result.predict()\n",
    "\n",
    "# Calcular los efectos marginales\n",
    "# Derivada de la probabilidad logística: P*(1 - P)\n",
    "# Donde P es la probabilidad predicha para cada categoría.\n",
    "marginal_effects = pred_probs * (1 - pred_probs)\n",
    "\n",
    "# Calcular la media de los efectos marginales por cada variable explicativa\n",
    "marginal_effects_summary = marginal_effects.mean(axis=0)\n",
    "\n",
    "# Mostrar los efectos marginales promedios por variable\n",
    "print(pd.DataFrame(marginal_effects_summary, index=df[[\"science\", \"socst\", \"female\"]].columns, columns=[\"Marginal Effects\"]))"
   ]
  },
  {
   "cell_type": "code",
   "execution_count": 54,
   "metadata": {},
   "outputs": [
    {
     "name": "stdout",
     "output_type": "stream",
     "text": [
      "Optimization terminated successfully.\n",
      "         Current function value: 0.974012\n",
      "         Iterations: 20\n",
      "         Function evaluations: 23\n",
      "         Gradient evaluations: 23\n",
      "Coeficientes:\n",
      "science    0.030020\n",
      "socst      0.053182\n",
      "female    -0.482398\n",
      "1.0/2.0    2.754676\n",
      "2.0/3.0    0.854758\n",
      "dtype: float64\n",
      "\n",
      "Odds Ratios:\n"
     ]
    },
    {
     "name": "stderr",
     "output_type": "stream",
     "text": [
      "c:\\Users\\HP\\AppData\\Local\\Programs\\Python\\Python312\\Lib\\site-packages\\statsmodels\\miscmodels\\ordinal_model.py:205: Warning: the endog has ordered == False, risk of capturing a wrong order for the categories. ordered == True preferred.\n",
      "  warnings.warn(\"the endog has ordered == False, \"\n"
     ]
    },
    {
     "data": {
      "text/plain": [
       "science     1.030475\n",
       "socst       1.054622\n",
       "female      0.617301\n",
       "1.0/2.0    15.715944\n",
       "2.0/3.0     2.350806\n",
       "dtype: float64"
      ]
     },
     "execution_count": 54,
     "metadata": {},
     "output_type": "execute_result"
    }
   ],
   "source": [
    "import statsmodels.api as sm\n",
    "from statsmodels.miscmodels.ordinal_model import OrderedModel\n",
    "import pandas as pd\n",
    "import numpy as np\n",
    "\n",
    "# Ajustar el modelo ordinal\n",
    "model = OrderedModel(df[\"ses\"], df[[\"science\", \"socst\", \"female\"]], distr=\"logit\")\n",
    "result = model.fit(method=\"bfgs\")\n",
    "\n",
    "# Mostrar los coeficientes del modelo\n",
    "print(\"Coeficientes:\")\n",
    "print(result.params)\n",
    "\n",
    "# Calcular los odds ratios (exponentes de los coeficientes)\n",
    "odds_ratios = np.exp(result.params)\n",
    "\n",
    "# Mostrar los odds ratios\n",
    "print(\"\\nOdds Ratios:\")\n",
    "odds_ratios"
   ]
  },
  {
   "cell_type": "code",
   "execution_count": 55,
   "metadata": {},
   "outputs": [
    {
     "name": "stdout",
     "output_type": "stream",
     "text": [
      "Optimization terminated successfully.\n",
      "         Current function value: 0.974470\n",
      "         Iterations 4\n"
     ]
    },
    {
     "data": {
      "text/html": [
       "<table class=\"simpletable\">\n",
       "<caption>OrderedModel Results</caption>\n",
       "<tr>\n",
       "  <th>Dep. Variable:</th>         <td>ses_codes</td>     <th>  Log-Likelihood:    </th> <td> -194.89</td>\n",
       "</tr>\n",
       "<tr>\n",
       "  <th>Model:</th>               <td>OrderedModel</td>    <th>  AIC:               </th> <td>   399.8</td>\n",
       "</tr>\n",
       "<tr>\n",
       "  <th>Method:</th>           <td>Maximum Likelihood</td> <th>  BIC:               </th> <td>   416.3</td>\n",
       "</tr>\n",
       "<tr>\n",
       "  <th>Date:</th>              <td>Tue, 11 Feb 2025</td>  <th>                     </th>     <td> </td>   \n",
       "</tr>\n",
       "<tr>\n",
       "  <th>Time:</th>                  <td>20:36:20</td>      <th>                     </th>     <td> </td>   \n",
       "</tr>\n",
       "<tr>\n",
       "  <th>No. Observations:</th>       <td>   200</td>       <th>                     </th>     <td> </td>   \n",
       "</tr>\n",
       "<tr>\n",
       "  <th>Df Residuals:</th>           <td>   195</td>       <th>                     </th>     <td> </td>   \n",
       "</tr>\n",
       "<tr>\n",
       "  <th>Df Model:</th>               <td>     3</td>       <th>                     </th>     <td> </td>   \n",
       "</tr>\n",
       "</table>\n",
       "<table class=\"simpletable\">\n",
       "<tr>\n",
       "     <td></td>        <th>coef</th>     <th>std err</th>      <th>z</th>      <th>P>|z|</th>  <th>[0.025</th>    <th>0.975]</th>  \n",
       "</tr>\n",
       "<tr>\n",
       "  <th>science</th> <td>    0.0175</td> <td>    0.009</td> <td>    1.875</td> <td> 0.061</td> <td>   -0.001</td> <td>    0.036</td>\n",
       "</tr>\n",
       "<tr>\n",
       "  <th>socst</th>   <td>    0.0311</td> <td>    0.009</td> <td>    3.593</td> <td> 0.000</td> <td>    0.014</td> <td>    0.048</td>\n",
       "</tr>\n",
       "<tr>\n",
       "  <th>female</th>  <td>   -0.2965</td> <td>    0.165</td> <td>   -1.802</td> <td> 0.071</td> <td>   -0.619</td> <td>    0.026</td>\n",
       "</tr>\n",
       "<tr>\n",
       "  <th>0/1</th>     <td>    1.5775</td> <td>    0.507</td> <td>    3.109</td> <td> 0.002</td> <td>    0.583</td> <td>    2.572</td>\n",
       "</tr>\n",
       "<tr>\n",
       "  <th>1/2</th>     <td>    0.3419</td> <td>    0.086</td> <td>    3.978</td> <td> 0.000</td> <td>    0.173</td> <td>    0.510</td>\n",
       "</tr>\n",
       "</table>"
      ],
      "text/latex": [
       "\\begin{center}\n",
       "\\begin{tabular}{lclc}\n",
       "\\toprule\n",
       "\\textbf{Dep. Variable:}    &     ses\\_codes     & \\textbf{  Log-Likelihood:    } &   -194.89   \\\\\n",
       "\\textbf{Model:}            &    OrderedModel    & \\textbf{  AIC:               } &     399.8   \\\\\n",
       "\\textbf{Method:}           & Maximum Likelihood & \\textbf{  BIC:               } &     416.3   \\\\\n",
       "\\textbf{Date:}             &  Tue, 11 Feb 2025  & \\textbf{                     } &             \\\\\n",
       "\\textbf{Time:}             &      20:36:20      & \\textbf{                     } &             \\\\\n",
       "\\textbf{No. Observations:} &          200       & \\textbf{                     } &             \\\\\n",
       "\\textbf{Df Residuals:}     &          195       & \\textbf{                     } &             \\\\\n",
       "\\textbf{Df Model:}         &            3       & \\textbf{                     } &             \\\\\n",
       "\\bottomrule\n",
       "\\end{tabular}\n",
       "\\begin{tabular}{lcccccc}\n",
       "                 & \\textbf{coef} & \\textbf{std err} & \\textbf{z} & \\textbf{P$> |$z$|$} & \\textbf{[0.025} & \\textbf{0.975]}  \\\\\n",
       "\\midrule\n",
       "\\textbf{science} &       0.0175  &        0.009     &     1.875  &         0.061        &       -0.001    &        0.036     \\\\\n",
       "\\textbf{socst}   &       0.0311  &        0.009     &     3.593  &         0.000        &        0.014    &        0.048     \\\\\n",
       "\\textbf{female}  &      -0.2965  &        0.165     &    -1.802  &         0.071        &       -0.619    &        0.026     \\\\\n",
       "\\textbf{0/1}     &       1.5775  &        0.507     &     3.109  &         0.002        &        0.583    &        2.572     \\\\\n",
       "\\textbf{1/2}     &       0.3419  &        0.086     &     3.978  &         0.000        &        0.173    &        0.510     \\\\\n",
       "\\bottomrule\n",
       "\\end{tabular}\n",
       "%\\caption{OrderedModel Results}\n",
       "\\end{center}"
      ],
      "text/plain": [
       "<class 'statsmodels.iolib.summary.Summary'>\n",
       "\"\"\"\n",
       "                             OrderedModel Results                             \n",
       "==============================================================================\n",
       "Dep. Variable:              ses_codes   Log-Likelihood:                -194.89\n",
       "Model:                   OrderedModel   AIC:                             399.8\n",
       "Method:            Maximum Likelihood   BIC:                             416.3\n",
       "Date:                Tue, 11 Feb 2025                                         \n",
       "Time:                        20:36:20                                         \n",
       "No. Observations:                 200                                         \n",
       "Df Residuals:                     195                                         \n",
       "Df Model:                           3                                         \n",
       "==============================================================================\n",
       "                 coef    std err          z      P>|z|      [0.025      0.975]\n",
       "------------------------------------------------------------------------------\n",
       "science        0.0175      0.009      1.875      0.061      -0.001       0.036\n",
       "socst          0.0311      0.009      3.593      0.000       0.014       0.048\n",
       "female        -0.2965      0.165     -1.802      0.071      -0.619       0.026\n",
       "0/1            1.5775      0.507      3.109      0.002       0.583       2.572\n",
       "1/2            0.3419      0.086      3.978      0.000       0.173       0.510\n",
       "==============================================================================\n",
       "\"\"\""
      ]
     },
     "execution_count": 55,
     "metadata": {},
     "output_type": "execute_result"
    }
   ],
   "source": [
    "#Se estima un modelo logit para variabbles ordeneadas.\n",
    "import statsmodels.api as sm\n",
    "import statsmodels.formula.api as smf\n",
    "from statsmodels.miscmodels.ordinal_model import OrderedModel\n",
    "\n",
    "# Convertir 'ses' en una variable ordinal\n",
    "df['ses'] = df['ses'].astype('category')\n",
    "df['ses_codes'] = df['ses'].cat.codes  # Convertir a códigos numéricos ordenados\n",
    "\n",
    "# Definir y ajustar el modelo logit ordinal\n",
    "model = OrderedModel(df['ses_codes'], df[['science', 'socst', 'female']], distr='probit')\n",
    "result = model.fit(method='newton')\n",
    "\n",
    "# Mostrar los resultados\n",
    "result.summary()"
   ]
  }
 ],
 "metadata": {
  "kernelspec": {
   "display_name": "Python 3",
   "language": "python",
   "name": "python3"
  },
  "language_info": {
   "codemirror_mode": {
    "name": "ipython",
    "version": 3
   },
   "file_extension": ".py",
   "mimetype": "text/x-python",
   "name": "python",
   "nbconvert_exporter": "python",
   "pygments_lexer": "ipython3",
   "version": "3.12.2"
  }
 },
 "nbformat": 4,
 "nbformat_minor": 2
}
